{
 "nbformat": 4,
 "nbformat_minor": 2,
 "metadata": {
  "language_info": {
   "name": "python",
   "codemirror_mode": {
    "name": "ipython",
    "version": 3
   }
  },
  "orig_nbformat": 2,
  "file_extension": ".py",
  "mimetype": "text/x-python",
  "name": "python",
  "npconvert_exporter": "python",
  "pygments_lexer": "ipython3",
  "version": 3
 },
 "cells": [
  {
   "cell_type": "code",
   "execution_count": null,
   "metadata": {},
   "outputs": [],
   "source": [
    "import argparse\n",
    "import torch\n",
    "import caramel"
   ]
  },
  {
   "cell_type": "code",
   "execution_count": null,
   "metadata": {},
   "outputs": [],
   "source": [
    "def set_args():\n",
    "    if args_parser is not None:\n",
    "        args = args_parser\n",
    "    else:\n",
    "        args = dotdict()\n",
    "        args.seed = 1\n",
    "        args.log_interval = 10    \n",
    "        args.batch_size = 100\n",
    "        args.epochs = 1\n",
    "        args.with_cuda = False\n",
    "        args.chkpt_interval = 10\n",
    "        args.isambard = False\n",
    "        args.warm_start = False\n",
    "        args.identifier = '021501AQ1H'\n",
    "        args.data_region = '021501AQ1H'\n",
    "        args.normaliser = 'standardise_mx'\n",
    "        args.loss = 'mae'\n",
    "        args.nb_hidden_layers = 9\n",
    "        args.nlevs = 30\n",
    "        args.data_fraction = 0.01\n",
    "\n",
    "    torch.manual_seed(args.seed)\n",
    "    args.cuda = args.with_cuda and torch.cuda.is_available()\n",
    "    args.device = torch.device(\"cuda\" if args.cuda else \"cpu\")\n",
    "    kwargs = {'pin_memory': False} if args.cuda else {}\n",
    "\n",
    "    # Define the Model\n",
    "    # n_inputs,n_outputs=140,70\n",
    "    args.region=args.data_region\n",
    "    args.in_features = (args.nlevs*4+3)\n",
    "    args.nb_classes =(args.nlevs*2)\n",
    "    args.hidden_size = int(0.66 * args.in_features + args.nb_classes)\n",
    "    args.model_name = \"q_qadv_t_tadv_swtoa_lhf_shf_qtnext_{0}_lyr_{1}_in_{2}_out_{3}_hdn_{4}_epch_{5}_btch_{6}_{7}_{8}_levs.tar\".format(str(args.nb_hidden_layers).zfill(3),\n",
    "                                                                                    str(args.in_features).zfill(3),\n",
    "                                                                                    str(args.nb_classes).zfill(3),\n",
    "                                                                                    str(args.hidden_size).zfill(4),\n",
    "                                                                                    str(args.epochs).zfill(3),\n",
    "                                                                                    str(args.batch_size).zfill(5),\n",
    "                                                                                    args.identifier, \n",
    "                                                                                    args.loss,\n",
    "                                                                                    args.normaliser)\n",
    "\n",
    "    # Get the data\n",
    "    if args.isambard:\n",
    "        args.locations={ \"train_test_datadir\":\"/home/mo-ojamil/ML/CRM/data\",\n",
    "                \"chkpnt_loc\":\"/home/mo-ojamil/ML/CRM/data/models/chkpts\",\n",
    "                \"hist_loc\":\"/home/mo-ojamil/ML/CRM/data/models\",\n",
    "                \"model_loc\":\"/home/mo-ojamil/ML/CRM/data/models/torch\",\n",
    "                \"normaliser_loc\":\"/home/mo-ojamil/ML/CRM/data/normaliser/{0}_{1}\".format(args.region, args.normaliser)}\n",
    "    else:\n",
    "        args.locations={ \"train_test_datadir\":\"/project/spice/radiation/ML/CRM/data/models/datain\",\n",
    "                \"chkpnt_loc\":\"/project/spice/radiation/ML/CRM/data/models/chkpts/torch\",\n",
    "                \"hist_loc\":\"/project/spice/radiation/ML/CRM/data/models/history\",\n",
    "                \"model_loc\":\"/project/spice/radiation/ML/CRM/data/models/torch\",\n",
    "                \"normaliser_loc\":\"/project/spice/radiation/ML/CRM/data/models/normaliser/{0}_{1}\".format(args.region, args.normaliser)}\n",
    "    return args\n"
   ]
  },
  {
   "cell_type": "code",
   "execution_count": null,
   "metadata": {},
   "outputs": [],
   "source": [
    "args = set_args()\n",
    "model, loss_function, optimizer, scheduler = caramel.set_model(args)\n",
    "caramel.train_loop(model, loss_function, optimizer, scheduler, args)"
   ]
  }
 ]
}